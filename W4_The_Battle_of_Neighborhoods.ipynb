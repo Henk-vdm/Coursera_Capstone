{
 "cells": [
  {
   "cell_type": "markdown",
   "metadata": {},
   "source": [
    "# Capstone Project - The Battle of Neighborhoods (Week 4)"
   ]
  },
  {
   "cell_type": "markdown",
   "metadata": {},
   "source": [
    "## Background\n"
   ]
  },
  {
   "cell_type": "markdown",
   "metadata": {},
   "source": [
    "An investor is looking to open a new restaurant in Dallas TX, but she is not sure about the best location for his new venue. The investor is new to the restaurant business and want to start small.\n",
    "\n",
    "Although not the fastest growing city in Texas; Dallas, with a population of 1.245 Mil (2018) and numerous businesses that is based in and around Dallas is prime ground for restaurants. \n",
    "The Dallas-Fort Worth-Arlington core-based statistical area by the U.S. Census Bureau -- had 13,763 restaurants in the fall of 2015.\n",
    "Dallas has 4 times more restaurants per person than New York City.\n",
    "\n",
    "These business does not always have in-house cafeterias, and if they do, people tend not to always eat at the cafeteria. \n",
    "The client want to open a restaurant that cater directly to businesses as well as regular clientele. \n",
    "\n",
    "Dallas is not as expensive as New York or San Francisco, but mortgage or rent can be a substantial chunk of your cost. It is highly preferable to find either a location that is on the outskirts of the city or a type of restaurant that does not have a big footprint.\n",
    "\n",
    "Another important requirement is to open a restaurant in and area that does not have to many similiar restaurants."
   ]
  },
  {
   "cell_type": "markdown",
   "metadata": {},
   "source": [
    "The question is what kind of restaurant will be the best to open as well as, in which Zipcode in Dallas?"
   ]
  },
  {
   "cell_type": "markdown",
   "metadata": {},
   "source": [
    "## Data section"
   ]
  },
  {
   "cell_type": "markdown",
   "metadata": {},
   "source": [
    "### Data requirements:"
   ]
  },
  {
   "cell_type": "markdown",
   "metadata": {},
   "source": [
    "1. We need all the zip codes that fall inside the City of Dallas, with their longitude and Latitudes.\n",
    "2. Source: The data is available at: https://www.dallasopendata.com/Geography-Boundaries/FY-2017-City-of-Dallas-City-Limits/ad4m-4kje and can be downloaded in any one off the formats below: \n",
    "* Geospatial formats: KML, KMZ, GeoJSON, Shapefile\n",
    "* Non-geospatial file types: CSV, JSON, XML,  etc\n",
    "* The data can also be accessed via The Socrata Open Data API at  https://dev.socrata.com/\n",
    "3. We need to access Foursquare API to plot all the restaurants per Dallas Zip codes and group the zip codes by most common restaurant type."
   ]
  },
  {
   "cell_type": "code",
   "execution_count": null,
   "metadata": {},
   "outputs": [],
   "source": []
  }
 ],
 "metadata": {
  "kernelspec": {
   "display_name": "Python",
   "language": "python",
   "name": "conda-env-python-py"
  },
  "language_info": {
   "codemirror_mode": {
    "name": "ipython",
    "version": 3
   },
   "file_extension": ".py",
   "mimetype": "text/x-python",
   "name": "python",
   "nbconvert_exporter": "python",
   "pygments_lexer": "ipython3",
   "version": "3.6.10"
  }
 },
 "nbformat": 4,
 "nbformat_minor": 4
}
